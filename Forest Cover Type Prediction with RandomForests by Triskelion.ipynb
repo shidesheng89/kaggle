{
 "cells": [
  {
   "cell_type": "code",
   "execution_count": null,
   "metadata": {
    "collapsed": true
   },
   "outputs": [],
   "source": [
    "#by Triskelion\n",
    "#https://www.kaggle.com/triskelion/forest-cover-type-prediction/first-try-with-random-forests\n",
    "import pandas as pd\n",
    "from sklearn import ensemble\n",
    "\n",
    "if __name__ == \"__main__\":\n",
    "  loc_train = \"../input/train.csv\"\n",
    "  loc_test = \"../input/test.csv\"\n",
    "  loc_submission = \"kaggle.rf200.entropy.submission.csv\"\n",
    "\n",
    "  df_train = pd.read_csv(loc_train)\n",
    "  df_test = pd.read_csv(loc_test)\n",
    "\n",
    "  feature_cols = [col for col in df_train.columns if col not in ['Cover_Type','Id']]\n",
    "\n",
    "  X_train = df_train[feature_cols]\n",
    "  X_test = df_test[feature_cols]\n",
    "  y = df_train['Cover_Type']\n",
    "  test_ids = df_test['Id']\n",
    "  del df_train\n",
    "  del df_test\n",
    "  \n",
    "  clf = ensemble.RandomForestClassifier(n_estimators=200,n_jobs=-1,random_state=0)\n",
    "  clf.fit(X_train, y)\n",
    "  del X_train\n",
    "  \n",
    "  with open(loc_submission, \"w\") as outfile:\n",
    "    outfile.write(\"Id,Cover_Type\\n\")\n",
    "    for e, val in enumerate(list(clf.predict(X_test))):\n",
    "      outfile.write(\"%s,%s\\n\"%(test_ids[e],val))"
   ]
  }
 ],
 "metadata": {
  "kernelspec": {
   "display_name": "Python 2",
   "language": "python",
   "name": "python2"
  },
  "language_info": {
   "codemirror_mode": {
    "name": "ipython",
    "version": 2
   },
   "file_extension": ".py",
   "mimetype": "text/x-python",
   "name": "python",
   "nbconvert_exporter": "python",
   "pygments_lexer": "ipython2",
   "version": "2.7.9"
  }
 },
 "nbformat": 4,
 "nbformat_minor": 0
}
