{
 "cells": [
  {
   "cell_type": "code",
   "execution_count": 1,
   "metadata": {
    "collapsed": false
   },
   "outputs": [
    {
     "name": "stdout",
     "output_type": "stream",
     "text": [
      "Populating the interactive namespace from numpy and matplotlib\n"
     ]
    }
   ],
   "source": [
    "import numpy as np\n",
    "import pandas as pd\n",
    "import csv\n",
    "import random\n",
    "from sklearn.utils import shuffle\n",
    "from sklearn.decomposition import PCA\n",
    "from sklearn.preprocessing import StandardScaler, normalize\n",
    "from sklearn.ensemble import ExtraTreesClassifier\n",
    "from sklearn.svm import SVC\n",
    "from sklearn.grid_search import GridSearchCV\n",
    "from sklearn.preprocessing import Imputer\n",
    "%pylab inline --no-import-all"
   ]
  },
  {
   "cell_type": "code",
   "execution_count": 2,
   "metadata": {
    "collapsed": false
   },
   "outputs": [
    {
     "name": "stdout",
     "output_type": "stream",
     "text": [
      "C:\\Users\\Administrator\\Desktop\\temp\\Forest Cover Type\n"
     ]
    }
   ],
   "source": [
    "cd'C:\\Users\\Administrator\\Desktop\\temp\\Forest Cover Type'"
   ]
  },
  {
   "cell_type": "code",
   "execution_count": 3,
   "metadata": {
    "collapsed": true
   },
   "outputs": [],
   "source": [
    "#处理Traindata，分出10%的数据用于测试\n",
    "def loadtraindata():\n",
    "    i=pd.read_csv('train.csv',header=0)\n",
    "    \n",
    "    #数据相关参数\n",
    "    a=i.describe()\n",
    "    index=['count','mean','std','min','25%','50%','75%','max']\n",
    "    a.to_csv('train_describe.csv', header = True, index=index)\n",
    "    feature_cols=[col for col in i.columns if col not in ['Cover_Type','Id']]\n",
    "    Traindata=i[feature_cols]\n",
    "    Trainlabel=i['Cover_Type']\n",
    "    Traindata=np.asarray(Traindata)\n",
    "    Trainlabel=np.asarray(Trainlabel)\n",
    "    m,n=np.shape(Traindata)\n",
    "    Traindata,Trainlabel=shuffle(Traindata,Trainlabel)\n",
    "    Trainlabel=Trainlabel[:-m/10]\n",
    "    Traindata=Traindata[:-m/10]\n",
    "    Trainlabel_test=Trainlabel[-m/10:]\n",
    "    Traindata_test=Traindata[-m/10:]\n",
    "    print Trainlabel.shape,Traindata.shape,Traindata_test.shape,Trainlabel_test.shape\n",
    "    return Trainlabel,Traindata,Traindata_test,Trainlabel_test"
   ]
  },
  {
   "cell_type": "code",
   "execution_count": 4,
   "metadata": {
    "collapsed": true
   },
   "outputs": [],
   "source": [
    "#处理Testdata\n",
    "def loadtestdata():\n",
    "    i=pd.read_csv('test.csv',header=0)\n",
    "    Testdata=np.asarray(i)\n",
    "    Testdata=np.delete(Testdata,[0],1)\n",
    "    print Testdata.shape\n",
    "    return Testdata"
   ]
  },
  {
   "cell_type": "code",
   "execution_count": 5,
   "metadata": {
    "collapsed": false
   },
   "outputs": [
    {
     "name": "stdout",
     "output_type": "stream",
     "text": [
      "(13608L,) (13608L, 54L) (1512L, 54L) (1512L,)\n",
      "(565892L, 54L)\n"
     ]
    }
   ],
   "source": [
    "Trainlabel,Traindata,Traindata_test,Trainlabel_test=loadtraindata()\n",
    "Testdata=loadtestdata()"
   ]
  },
  {
   "cell_type": "code",
   "execution_count": 6,
   "metadata": {
    "collapsed": false
   },
   "outputs": [
    {
     "name": "stderr",
     "output_type": "stream",
     "text": [
      "C:\\Users\\Administrator\\AppData\\Roaming\\Python\\Python27\\site-packages\\sklearn\\utils\\validation.py:493: UserWarning: StandardScaler assumes floating point values as input, got int64\n",
      "  \"got %s\" % (estimator, X.dtype))\n"
     ]
    }
   ],
   "source": [
    "#归一化\n",
    "ss = StandardScaler()\n",
    "ss.fit_transform(np.r_[Traindata,Traindata_test,Testdata])\n",
    "Traindata=ss.transform(Traindata)\n",
    "Traindata_test=ss.transform(Traindata_test)\n",
    "Testdata=ss.transform(Testdata)"
   ]
  },
  {
   "cell_type": "code",
   "execution_count": 7,
   "metadata": {
    "collapsed": false
   },
   "outputs": [
    {
     "name": "stdout",
     "output_type": "stream",
     "text": [
      "48\n",
      "(13608L, 54L) (565892L, 54L) (1512L, 54L)\n"
     ]
    },
    {
     "data": {
      "image/png": "[encoded data removed]",
      "text/plain": [
       "<matplotlib.figure.Figure at 0x19959588>"
      ]
     },
     "metadata": {},
     "output_type": "display_data"
    }
   ],
   "source": [
    "#主成分分析\n",
    "pca=PCA()\n",
    "pca.fit(np.r_[Testdata,Traindata,Traindata_test])\n",
    "pd.DataFrame(pca.explained_variance_ratio_).plot(kind='bar')\n",
    "n_components=np.where(np.cumsum(pca.explained_variance_ratio_)>=0.99)[0][0]\n",
    "print n_components\n",
    "print  np.shape(Traindata),np.shape(Testdata),np.shape(Traindata_test)"
   ]
  },
  {
   "cell_type": "code",
   "execution_count": 8,
   "metadata": {
    "collapsed": false
   },
   "outputs": [
    {
     "name": "stdout",
     "output_type": "stream",
     "text": [
      "(13608L, 48L) (565892L, 48L) (1512L, 48L)\n"
     ]
    }
   ],
   "source": [
    "#降维\n",
    "pca=PCA(n_components=n_components)\n",
    "pca.fit(np.r_[Testdata,Traindata,Traindata_test])\n",
    "Traindata=pca.transform(Traindata)\n",
    "Traindata_test=pca.transform(Traindata_test)\n",
    "Testdata=pca.transform(Testdata)\n",
    "print  np.shape(Traindata),np.shape(Testdata),np.shape(Traindata_test)"
   ]
  },
  {
   "cell_type": "code",
   "execution_count": 9,
   "metadata": {
    "collapsed": false
   },
   "outputs": [
    {
     "name": "stdout",
     "output_type": "stream",
     "text": [
      "(13608L, 48L) (1512L, 48L)\n",
      "(13608L, 48L) (565892L, 48L) (1512L, 48L)\n"
     ]
    },
    {
     "data": {
      "image/png": "[encoded data removed]",
      "text/plain": [
       "<matplotlib.figure.Figure at 0xb26c550>"
      ]
     },
     "metadata": {},
     "output_type": "display_data"
    }
   ],
   "source": [
    "##特征提取\n",
    "## filter features by forest model\n",
    "trees = ExtraTreesClassifier(n_estimators=100)\n",
    "trees.fit(Traindata, Trainlabel)\n",
    "pd.DataFrame(trees.feature_importances_).plot(kind='bar')\n",
    "selected_features = np.where(trees.feature_importances_ > 0.005)[0]\n",
    "Traindata = Traindata[:, selected_features]\n",
    "Traindata_test = Traindata_test[:, selected_features]\n",
    "print Traindata.shape, Traindata_test.shape\n",
    "print  np.shape(Traindata),np.shape(Testdata),np.shape(Traindata_test)"
   ]
  },
  {
   "cell_type": "code",
   "execution_count": 17,
   "metadata": {
    "collapsed": false
   },
   "outputs": [],
   "source": [
    "#调用kNN进行预测\n",
    "from sklearn.neighbors import KNeighborsClassifier\n",
    "def knnClassify1(Traindata,Trainlabel,Traindata_test,Testdata): \n",
    "    knnClf=KNeighborsClassifier(n_neighbors=5)\n",
    "    knnClf.fit(Traindata,np.ravel(Trainlabel))\n",
    "    Trainlabel_test_predict=knnClf.predict(Traindata_test)\n",
    "    Trainlabel_predict=knnClf.predict(Testdata)\n",
    "    return Trainlabel_test_predict,Trainlabel_predict\n",
    "Trainlabel_test_predict,Trainlabel_predict = knnClassify1(Traindata,Trainlabel,Traindata_test,Testdata)"
   ]
  },
  {
   "cell_type": "code",
   "execution_count": 18,
   "metadata": {
    "collapsed": false
   },
   "outputs": [
    {
     "name": "stdout",
     "output_type": "stream",
     "text": [
      "Percentage of difference is 0.146164\n"
     ]
    }
   ],
   "source": [
    "#测试结果\n",
    "def Errortest():\n",
    "    result1=Trainlabel_test_predict\n",
    "    \n",
    "    #将结果与跟给定的knn_benchmark对比,以result1为例\n",
    "    resultGiven=Trainlabel_test\n",
    "    m,n=np.shape(Traindata_test)\n",
    "    different1=0      \n",
    "    for i in xrange(m):\n",
    "        if result1[i]!=resultGiven[i]:\n",
    "            different1+=1\n",
    "    a=float(different1)/m\n",
    "    print 'Percentage of difference is %f'%a   \n",
    "Errortest()"
   ]
  },
  {
   "cell_type": "code",
   "execution_count": 19,
   "metadata": {
    "collapsed": true
   },
   "outputs": [],
   "source": [
    "#保存数据\n",
    "Trainlabel_predict_df = pd.DataFrame(dict(Id = np.arange(15121, Trainlabel_predict.shape[0]+15121), Cover_Type=Trainlabel_predict))\n",
    "Trainlabel_predict_df.to_csv('submission.csv', header = True, index=False)"
   ]
  },
  {
   "cell_type": "code",
   "execution_count": null,
   "metadata": {
    "collapsed": true
   },
   "outputs": [],
   "source": []
  }
 ],
 "metadata": {
  "kernelspec": {
   "display_name": "Python 2",
   "language": "python",
   "name": "python2"
  },
  "language_info": {
   "codemirror_mode": {
    "name": "ipython",
    "version": 2
   },
   "file_extension": ".py",
   "mimetype": "text/x-python",
   "name": "python",
   "nbconvert_exporter": "python",
   "pygments_lexer": "ipython2",
   "version": "2.7.9"
  }
 },
 "nbformat": 4,
 "nbformat_minor": 0
}
